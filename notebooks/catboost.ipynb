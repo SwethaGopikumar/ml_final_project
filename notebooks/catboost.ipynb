{
  "nbformat": 4,
  "nbformat_minor": 0,
  "metadata": {
    "colab": {
      "name": "catboost_last",
      "provenance": [],
      "collapsed_sections": []
    },
    "kernelspec": {
      "name": "python3",
      "display_name": "Python 3"
    },
    "accelerator": "GPU"
  },
  "cells": [
    {
      "cell_type": "code",
      "metadata": {
        "id": "srRgqlceiYpR",
        "colab_type": "code",
        "colab": {
          "base_uri": "https://localhost:8080/",
          "height": 122
        },
        "outputId": "f8600e1b-c47a-4335-c78f-bf3aed4daa4d"
      },
      "source": [
        "from google.colab import drive\n",
        "drive.mount('/content/drive')"
      ],
      "execution_count": 1,
      "outputs": [
        {
          "output_type": "stream",
          "text": [
            "Go to this URL in a browser: https://accounts.google.com/o/oauth2/auth?client_id=947318989803-6bn6qk8qdgf4n4g3pfee6491hc0brc4i.apps.googleusercontent.com&redirect_uri=urn%3aietf%3awg%3aoauth%3a2.0%3aoob&scope=email%20https%3a%2f%2fwww.googleapis.com%2fauth%2fdocs.test%20https%3a%2f%2fwww.googleapis.com%2fauth%2fdrive%20https%3a%2f%2fwww.googleapis.com%2fauth%2fdrive.photos.readonly%20https%3a%2f%2fwww.googleapis.com%2fauth%2fpeopleapi.readonly&response_type=code\n",
            "\n",
            "Enter your authorization code:\n",
            "··········\n",
            "Mounted at /content/drive\n"
          ],
          "name": "stdout"
        }
      ]
    },
    {
      "cell_type": "code",
      "metadata": {
        "id": "mMG7Lo2vHZUi",
        "colab_type": "code",
        "colab": {
          "base_uri": "https://localhost:8080/",
          "height": 527
        },
        "outputId": "3afaa686-f9ce-4de2-9d38-6d83b004231e"
      },
      "source": [
        "!pip install catboost\n",
        "!pip install scikit-optimize"
      ],
      "execution_count": 2,
      "outputs": [
        {
          "output_type": "stream",
          "text": [
            "Collecting catboost\n",
            "\u001b[?25l  Downloading https://files.pythonhosted.org/packages/90/86/c3dcb600b4f9e7584ed90ea9d30a717fb5c0111574675f442c3e7bc19535/catboost-0.24.1-cp36-none-manylinux1_x86_64.whl (66.1MB)\n",
            "\u001b[K     |████████████████████████████████| 66.1MB 43kB/s \n",
            "\u001b[?25hRequirement already satisfied: plotly in /usr/local/lib/python3.6/dist-packages (from catboost) (4.4.1)\n",
            "Requirement already satisfied: six in /usr/local/lib/python3.6/dist-packages (from catboost) (1.15.0)\n",
            "Requirement already satisfied: pandas>=0.24.0 in /usr/local/lib/python3.6/dist-packages (from catboost) (1.0.5)\n",
            "Requirement already satisfied: graphviz in /usr/local/lib/python3.6/dist-packages (from catboost) (0.10.1)\n",
            "Requirement already satisfied: numpy>=1.16.0 in /usr/local/lib/python3.6/dist-packages (from catboost) (1.18.5)\n",
            "Requirement already satisfied: scipy in /usr/local/lib/python3.6/dist-packages (from catboost) (1.4.1)\n",
            "Requirement already satisfied: matplotlib in /usr/local/lib/python3.6/dist-packages (from catboost) (3.2.2)\n",
            "Requirement already satisfied: retrying>=1.3.3 in /usr/local/lib/python3.6/dist-packages (from plotly->catboost) (1.3.3)\n",
            "Requirement already satisfied: pytz>=2017.2 in /usr/local/lib/python3.6/dist-packages (from pandas>=0.24.0->catboost) (2018.9)\n",
            "Requirement already satisfied: python-dateutil>=2.6.1 in /usr/local/lib/python3.6/dist-packages (from pandas>=0.24.0->catboost) (2.8.1)\n",
            "Requirement already satisfied: kiwisolver>=1.0.1 in /usr/local/lib/python3.6/dist-packages (from matplotlib->catboost) (1.2.0)\n",
            "Requirement already satisfied: pyparsing!=2.0.4,!=2.1.2,!=2.1.6,>=2.0.1 in /usr/local/lib/python3.6/dist-packages (from matplotlib->catboost) (2.4.7)\n",
            "Requirement already satisfied: cycler>=0.10 in /usr/local/lib/python3.6/dist-packages (from matplotlib->catboost) (0.10.0)\n",
            "Installing collected packages: catboost\n",
            "Successfully installed catboost-0.24.1\n",
            "Collecting scikit-optimize\n",
            "\u001b[?25l  Downloading https://files.pythonhosted.org/packages/5c/87/310b52debfbc0cb79764e5770fa3f5c18f6f0754809ea9e2fc185e1b67d3/scikit_optimize-0.7.4-py2.py3-none-any.whl (80kB)\n",
            "\u001b[K     |████████████████████████████████| 81kB 3.8MB/s \n",
            "\u001b[?25hRequirement already satisfied: numpy>=1.11.0 in /usr/local/lib/python3.6/dist-packages (from scikit-optimize) (1.18.5)\n",
            "Requirement already satisfied: scikit-learn>=0.19.1 in /usr/local/lib/python3.6/dist-packages (from scikit-optimize) (0.22.2.post1)\n",
            "Requirement already satisfied: scipy>=0.18.0 in /usr/local/lib/python3.6/dist-packages (from scikit-optimize) (1.4.1)\n",
            "Requirement already satisfied: joblib>=0.11 in /usr/local/lib/python3.6/dist-packages (from scikit-optimize) (0.16.0)\n",
            "Collecting pyaml>=16.9\n",
            "  Downloading https://files.pythonhosted.org/packages/15/c4/1310a054d33abc318426a956e7d6df0df76a6ddfa9c66f6310274fb75d42/pyaml-20.4.0-py2.py3-none-any.whl\n",
            "Requirement already satisfied: PyYAML in /usr/local/lib/python3.6/dist-packages (from pyaml>=16.9->scikit-optimize) (3.13)\n",
            "Installing collected packages: pyaml, scikit-optimize\n",
            "Successfully installed pyaml-20.4.0 scikit-optimize-0.7.4\n"
          ],
          "name": "stdout"
        }
      ]
    },
    {
      "cell_type": "code",
      "metadata": {
        "id": "Z8WQNG11JKpG",
        "colab_type": "code",
        "colab": {}
      },
      "source": [
        "import pandas as pd\n",
        "import numpy as np\n",
        "import os\n",
        "import time\n",
        "\n",
        "from sklearn.model_selection import KFold\n",
        "from sklearn.model_selection import train_test_split\n",
        "from sklearn.preprocessing import LabelEncoder, label_binarize\n",
        "from sklearn.metrics import accuracy_score\n",
        "from sklearn.metrics import roc_curve\n",
        "from sklearn.metrics import confusion_matrix\n",
        "from sklearn.metrics import precision_recall_curve\n",
        "from sklearn.metrics import auc\n",
        "from sklearn.metrics import roc_auc_score\n",
        "\n",
        "from scipy import interp\n",
        "\n",
        "import catboost\n",
        "from catboost import CatBoostClassifier, Pool\n",
        "\n",
        "from numpy import mean\n",
        "from skopt.space import Integer\n",
        "from skopt.space import Real\n",
        "from skopt.utils import use_named_args\n",
        "from skopt import gp_minimize"
      ],
      "execution_count": 14,
      "outputs": []
    },
    {
      "cell_type": "code",
      "metadata": {
        "id": "DDOibtngInJV",
        "colab_type": "code",
        "colab": {}
      },
      "source": [
        "files_path = '/content/drive/My Drive/ml_2020/project/classification_datasets'"
      ],
      "execution_count": 6,
      "outputs": []
    },
    {
      "cell_type": "code",
      "metadata": {
        "id": "F1dr14uTI7PW",
        "colab_type": "code",
        "colab": {}
      },
      "source": [
        "files_list = os.listdir(files_path)"
      ],
      "execution_count": 7,
      "outputs": []
    },
    {
      "cell_type": "markdown",
      "metadata": {
        "id": "TOW8dkOJjrJs",
        "colab_type": "text"
      },
      "source": [
        "# Data preparation"
      ]
    },
    {
      "cell_type": "code",
      "metadata": {
        "id": "oCK3vVVlI7R6",
        "colab_type": "code",
        "colab": {}
      },
      "source": [
        "def read_dataset(folder_path, filename):\n",
        "    df = pd.read_csv(os.path.join(folder_path, filename))\n",
        "    return df"
      ],
      "execution_count": 8,
      "outputs": []
    },
    {
      "cell_type": "code",
      "metadata": {
        "id": "1NKH_Q_mI7Z9",
        "colab_type": "code",
        "colab": {}
      },
      "source": [
        "def prepare_data(df, target_col=None):\n",
        "    df = df.fillna(df.mean())\n",
        "    df = df.fillna('')\n",
        "\n",
        "    if target_col:\n",
        "        X = df.iloc[:, df.columns != target_col]\n",
        "        y = df.loc[:, df.columns == target_col]\n",
        "    else:\n",
        "        X = df.iloc[:, :-1]\n",
        "        y = df.iloc[:, -1]\n",
        "\n",
        "    lb = LabelEncoder()\n",
        "    y = lb.fit_transform(y)\n",
        "\n",
        "    cat_cols = list(X.select_dtypes(include=['category','object']))\n",
        "    cat_features = [X.columns.get_loc(c) for c in cat_cols]        \n",
        "\n",
        "    classes = np.unique(y)\n",
        "\n",
        "    return X.values, y, cat_features, classes"
      ],
      "execution_count": 9,
      "outputs": []
    },
    {
      "cell_type": "markdown",
      "metadata": {
        "id": "1lblUtaWJbpM",
        "colab_type": "text"
      },
      "source": [
        "#Metrics calculationns"
      ]
    },
    {
      "cell_type": "code",
      "metadata": {
        "id": "EoVqi_EvI7lC",
        "colab_type": "code",
        "colab": {}
      },
      "source": [
        "def metrics_calc(y_true, y_pred, classes):\n",
        "\n",
        "    y_true_label = label_binarize(y_true, classes)\n",
        "\n",
        "    y_pred_arg = np.argmax(y_pred, axis=1)\n",
        "\n",
        "    cnf_matrix = confusion_matrix(y_true, y_pred_arg)\n",
        "\n",
        "    fp = cnf_matrix.sum(axis=0) - np.diag(cnf_matrix)  \n",
        "    fn = cnf_matrix.sum(axis=1) - np.diag(cnf_matrix)\n",
        "    tp = np.diag(cnf_matrix)\n",
        "    tn = cnf_matrix.sum() - (fp + fn + tp)\n",
        "\n",
        "    fp = fp.astype(float)\n",
        "    fn = fn.astype(float)\n",
        "    tp = tp.astype(float)\n",
        "    tn = tn.astype(float)\n",
        "\n",
        "    tpr = tp/(tp+fn)\n",
        "    fpr = fp/(fp+tn)\n",
        "    precision = tp/(tp+fp)\n",
        "    acc = (tp+tn)/(tp+fp+fn+tn)\n",
        "\n",
        "    mean_acc = np.nanmean(acc)\n",
        "    mean_tpr = np.nanmean(tpr)\n",
        "    mean_fpr = np.nanmean(fpr)\n",
        "    mean_precision = np.nanmean(precision)\n",
        "\n",
        "    precision = dict()\n",
        "    recall = dict()\n",
        "    fpr = dict()\n",
        "    tpr = dict()\n",
        "    roc_auc_list = []\n",
        "    pr_auc_list = []\n",
        "\n",
        "    if len(classes) == 2:\n",
        "        fpr, tpr, threshold_roc = roc_curve(y_true, y_pred[:, 1])\n",
        "\n",
        "        roc_auc = auc(fpr, tpr)\n",
        "        roc_auc_list.append(roc_auc)\n",
        "\n",
        "        \n",
        "        precision, recall, threshold_pr = precision_recall_curve(y_true,\n",
        "                                                            y_pred[:, 1])\n",
        "        \n",
        "        pr_auc = auc(recall, precision)\n",
        "        pr_auc_list.append(pr_auc)\n",
        "\n",
        "    else:\n",
        "        for i in range(y_pred.shape[1]):\n",
        "            fpr[i], tpr[i], threshold_roc = roc_curve(y_true_label[:, i], y_pred[:, i])\n",
        "            roc_auc = auc(fpr[i], tpr[i])\n",
        "            roc_auc_list.append(roc_auc)\n",
        "\n",
        "            precision[i], recall[i], threshold_pr = precision_recall_curve(y_true_label[:, i],\n",
        "                                                                y_pred[:, i])\n",
        "\n",
        "            pr_auc = auc(recall[i], precision[i])\n",
        "\n",
        "            pr_auc_list.append(pr_auc)\n",
        "\n",
        "\n",
        "    mean_roc_auc = np.nanmean(roc_auc_list)\n",
        "    mean_pr_auc = np.nanmean(pr_auc_list)\n",
        "\n",
        "    print('mean roc auc',mean_roc_auc)\n",
        "    print('mean pr auc', mean_pr_auc)\n",
        "\n",
        "    return mean_acc, mean_tpr, mean_fpr, mean_precision, mean_roc_auc, mean_pr_auc\n"
      ],
      "execution_count": 16,
      "outputs": []
    },
    {
      "cell_type": "markdown",
      "metadata": {
        "id": "3YlXnejOJe8H",
        "colab_type": "text"
      },
      "source": [
        "# Hyperparameters optimization"
      ]
    },
    {
      "cell_type": "code",
      "metadata": {
        "id": "1AbQNI_RI724",
        "colab_type": "code",
        "colab": {}
      },
      "source": [
        "def hyper_optimization(file, X, y):\n",
        "    search_space = [Integer(2, 4, name='depth', dtype=int),\n",
        "                    Real(0.1, 0.3, name='learning_rate', prior='log_uniform'),\n",
        "                    Integer(10, 20, name='l2_leaf_reg', dtype=int)]\n",
        "\n",
        "    @use_named_args(search_space)\n",
        "    def evaluate_model(**params):\n",
        "        results = []\n",
        "        kf = KFold(n_splits=3, random_state=42, shuffle=True)\n",
        "        kf.get_n_splits(X)\n",
        "        for train_index, test_index in kf.split(X, y):\n",
        "\n",
        "            X_train, X_test = X[train_index], X[test_index]\n",
        "            y_train, y_test = y[train_index], y[test_index]\n",
        "\n",
        "            clf = CatBoostClassifier(iterations=50,\n",
        "                                    random_seed=0, \n",
        "                                    custom_metric=['AUC:hints=skip_train~false'],\n",
        "                                    eval_metric='AUC',\n",
        "                                    )\n",
        "\n",
        "            clf.set_params(**params)\n",
        "\n",
        "            clf.fit(X_train, y_train, cat_features, verbose=False)\n",
        "\n",
        "            y_pred = clf.predict_proba(X_test)\n",
        "            y_pred_arg = np.argmax(y_pred, axis=1)\n",
        "\n",
        "            result = accuracy_score(y_test, y_pred_arg)\n",
        "\n",
        "            results.append(result)\n",
        "\n",
        "        # calculate the mean of the scores\n",
        "        estimate = mean(results)\n",
        "        return 1.0 - estimate\n",
        "\n",
        "    # perform optimization\n",
        "    result = gp_minimize(evaluate_model, search_space, n_calls=50)\n",
        "\n",
        "    return result\n"
      ],
      "execution_count": 20,
      "outputs": []
    },
    {
      "cell_type": "markdown",
      "metadata": {
        "id": "-QDkwW76NnfM",
        "colab_type": "text"
      },
      "source": [
        "# Training"
      ]
    },
    {
      "cell_type": "code",
      "metadata": {
        "id": "3IxQPH-tI8NE",
        "colab_type": "code",
        "colab": {
          "base_uri": "https://localhost:8080/",
          "height": 918
        },
        "outputId": "3039f5bc-56f3-47d2-986b-6e9e627111d4"
      },
      "source": [
        "for file in files_list:\n",
        "    print('file', file)\n",
        "\n",
        "    df = read_dataset(files_path, file)\n",
        "\n",
        "    if file == 'analcatdata_germangss.csv':\n",
        "        X, y, cat_features, classes = prepare_data(df, 'Political_system')\n",
        "    else:\n",
        "        X, y, cat_features, classes = prepare_data(df)\n",
        "\n",
        "    result = hyper_optimization(file, X, y)\n",
        "\n",
        "    best_params_vals = result.x\n",
        "    params_name = ['depth', 'learning_rate', 'l2_leaf_reg']\n",
        "    best_params = dict(zip(params_name, best_params_vals))\n",
        "\n",
        "    print(best_params)\n",
        "\n",
        "    kf = KFold(n_splits=10, random_state=42, shuffle=True)\n",
        "    kf.get_n_splits(X)\n",
        "\n",
        "    acc_list = []\n",
        "    tpr_list = []\n",
        "    fpr_list = []\n",
        "    precision_list = []\n",
        "    roc_auc_list = []\n",
        "    pr_auc_list = []\n",
        "    training_time_list = []\n",
        "    inference_time_list = []\n",
        "    cross_val = []\n",
        "\n",
        "    for fold_num, data_index in enumerate(kf.split(X, y)):\n",
        "        train_index, test_index = data_index[0], data_index[1]\n",
        "        X_train, X_test = X[train_index], X[test_index]\n",
        "        y_train, y_test = y[train_index], y[test_index]\n",
        "\n",
        "        clf = CatBoostClassifier(iterations=300,\n",
        "                           random_seed=0, \n",
        "                           custom_metric=['AUC:hints=skip_train~false'],\n",
        "                           eval_metric='AUC',\n",
        "                        )\n",
        "\n",
        "        clf.set_params(**best_params)\n",
        "\n",
        "        t0 = time.time()\n",
        "\n",
        "        clf.fit(X_train, y_train, cat_features, verbose=False)\n",
        "\n",
        "        t1 = time.time()\n",
        "        train_time = t1 - t0\n",
        "\n",
        "        print('train time', train_time)\n",
        "\n",
        "        t2 = time.time()\n",
        "\n",
        "        y_pred = clf.predict_proba(X_test)\n",
        "\n",
        "        t3 = time.time()\n",
        "        inference_time = (t3 - t2) * 1000 / y_test.shape[0]\n",
        "\n",
        "        acc, mean_tpr, mean_fpr, mean_precision, mean_roc_auc, mean_pr_auc = metrics_calc(y_test, y_pred, classes)\n",
        "\n",
        "        acc_list.append(\"{:.3f}\".format(acc))\n",
        "        tpr_list.append(\"{:.3f}\".format(mean_tpr))\n",
        "        fpr_list.append(\"{:.3f}\".format(mean_fpr))\n",
        "        precision_list.append(\"{:.3f}\".format(mean_precision))\n",
        "        roc_auc_list.append(\"{:.3f}\".format(mean_roc_auc))\n",
        "        pr_auc_list.append(\"{:.3f}\".format(mean_pr_auc))\n",
        "        training_time_list.append(\"{:.1f}\".format(train_time))\n",
        "        inference_time_list.append(\"{:.1f}\".format(inference_time))\n",
        "\n",
        "        cross_val.append(fold_num + 1)\n",
        "\n",
        "    results_dict = {'Dataset Name':[file.split('.')[0]] * 10,\n",
        "                'Algorithm Name':['catboost'] * 10,\n",
        "                'Cross Validation':cross_val,\n",
        "                'Hyper Parameters Values': [best_params_vals] * 10,\n",
        "                'Accuracy':acc_list,\n",
        "                'tpr':tpr_list,\n",
        "                'FPR':fpr_list,\n",
        "                'Precision':precision_list,\n",
        "                'AUC':roc_auc_list,\n",
        "                'PR-Curve':pr_auc_list,\n",
        "                'Training Time':training_time_list,\n",
        "                'Inference Time':inference_time_list\n",
        "                }\n",
        "\n",
        "    df_res = pd.DataFrame.from_dict(results_dict)\n",
        "    df_res = df_res.fillna(0)\n",
        "\n",
        "    df_res.to_csv('path/to/results',\n",
        "              mode='a', header=False, index=False)"
      ],
      "execution_count": 21,
      "outputs": [
        {
          "output_type": "stream",
          "text": [
            "file analcatdata_lawsuit.csv\n",
            "{'depth': 3, 'learning_rate': 0.25477871012925496, 'l2_leaf_reg': 12}\n",
            "train time 0.18136358261108398\n",
            "mean roc auc 0.98\n",
            "mean pr auc 0.7916666666666666\n",
            "train time 0.13842296600341797\n",
            "mean roc auc 0.9791666666666666\n",
            "mean pr auc 0.8777777777777778\n",
            "train time 0.13599443435668945\n",
            "mean roc auc 1.0\n",
            "mean pr auc 1.0\n"
          ],
          "name": "stdout"
        },
        {
          "output_type": "stream",
          "text": [
            "/usr/local/lib/python3.6/dist-packages/ipykernel_launcher.py:21: RuntimeWarning: invalid value encountered in true_divide\n",
            "/usr/local/lib/python3.6/dist-packages/ipykernel_launcher.py:21: RuntimeWarning: invalid value encountered in true_divide\n"
          ],
          "name": "stderr"
        },
        {
          "output_type": "stream",
          "text": [
            "train time 0.14283394813537598\n",
            "mean roc auc 1.0\n",
            "mean pr auc 1.0\n",
            "train time 0.13167905807495117\n",
            "mean roc auc 1.0\n",
            "mean pr auc 1.0\n",
            "train time 0.14202642440795898\n",
            "mean roc auc 1.0\n",
            "mean pr auc 1.0\n",
            "train time 0.13060665130615234\n",
            "mean roc auc 1.0\n",
            "mean pr auc 1.0\n",
            "train time 0.14205622673034668\n",
            "mean roc auc 1.0\n",
            "mean pr auc 1.0\n",
            "train time 0.1385810375213623\n",
            "mean roc auc 1.0\n",
            "mean pr auc 1.0\n",
            "train time 0.1402289867401123\n",
            "mean roc auc 1.0\n",
            "mean pr auc 1.0\n"
          ],
          "name": "stdout"
        },
        {
          "output_type": "error",
          "ename": "FileNotFoundError",
          "evalue": "ignored",
          "traceback": [
            "\u001b[0;31m---------------------------------------------------------------------------\u001b[0m",
            "\u001b[0;31mFileNotFoundError\u001b[0m                         Traceback (most recent call last)",
            "\u001b[0;32m<ipython-input-21-571b71333493>\u001b[0m in \u001b[0;36m<module>\u001b[0;34m()\u001b[0m\n\u001b[1;32m     93\u001b[0m \u001b[0;34m\u001b[0m\u001b[0m\n\u001b[1;32m     94\u001b[0m     df_res.to_csv('path/to/results',\n\u001b[0;32m---> 95\u001b[0;31m               mode='a', header=False, index=False)\n\u001b[0m",
            "\u001b[0;32m/usr/local/lib/python3.6/dist-packages/pandas/core/generic.py\u001b[0m in \u001b[0;36mto_csv\u001b[0;34m(self, path_or_buf, sep, na_rep, float_format, columns, header, index, index_label, mode, encoding, compression, quoting, quotechar, line_terminator, chunksize, date_format, doublequote, escapechar, decimal)\u001b[0m\n\u001b[1;32m   3202\u001b[0m             \u001b[0mdecimal\u001b[0m\u001b[0;34m=\u001b[0m\u001b[0mdecimal\u001b[0m\u001b[0;34m,\u001b[0m\u001b[0;34m\u001b[0m\u001b[0;34m\u001b[0m\u001b[0m\n\u001b[1;32m   3203\u001b[0m         )\n\u001b[0;32m-> 3204\u001b[0;31m         \u001b[0mformatter\u001b[0m\u001b[0;34m.\u001b[0m\u001b[0msave\u001b[0m\u001b[0;34m(\u001b[0m\u001b[0;34m)\u001b[0m\u001b[0;34m\u001b[0m\u001b[0;34m\u001b[0m\u001b[0m\n\u001b[0m\u001b[1;32m   3205\u001b[0m \u001b[0;34m\u001b[0m\u001b[0m\n\u001b[1;32m   3206\u001b[0m         \u001b[0;32mif\u001b[0m \u001b[0mpath_or_buf\u001b[0m \u001b[0;32mis\u001b[0m \u001b[0;32mNone\u001b[0m\u001b[0;34m:\u001b[0m\u001b[0;34m\u001b[0m\u001b[0;34m\u001b[0m\u001b[0m\n",
            "\u001b[0;32m/usr/local/lib/python3.6/dist-packages/pandas/io/formats/csvs.py\u001b[0m in \u001b[0;36msave\u001b[0;34m(self)\u001b[0m\n\u001b[1;32m    186\u001b[0m                 \u001b[0mself\u001b[0m\u001b[0;34m.\u001b[0m\u001b[0mmode\u001b[0m\u001b[0;34m,\u001b[0m\u001b[0;34m\u001b[0m\u001b[0;34m\u001b[0m\u001b[0m\n\u001b[1;32m    187\u001b[0m                 \u001b[0mencoding\u001b[0m\u001b[0;34m=\u001b[0m\u001b[0mself\u001b[0m\u001b[0;34m.\u001b[0m\u001b[0mencoding\u001b[0m\u001b[0;34m,\u001b[0m\u001b[0;34m\u001b[0m\u001b[0;34m\u001b[0m\u001b[0m\n\u001b[0;32m--> 188\u001b[0;31m                 \u001b[0mcompression\u001b[0m\u001b[0;34m=\u001b[0m\u001b[0mdict\u001b[0m\u001b[0;34m(\u001b[0m\u001b[0mself\u001b[0m\u001b[0;34m.\u001b[0m\u001b[0mcompression_args\u001b[0m\u001b[0;34m,\u001b[0m \u001b[0mmethod\u001b[0m\u001b[0;34m=\u001b[0m\u001b[0mself\u001b[0m\u001b[0;34m.\u001b[0m\u001b[0mcompression\u001b[0m\u001b[0;34m)\u001b[0m\u001b[0;34m,\u001b[0m\u001b[0;34m\u001b[0m\u001b[0;34m\u001b[0m\u001b[0m\n\u001b[0m\u001b[1;32m    189\u001b[0m             )\n\u001b[1;32m    190\u001b[0m             \u001b[0mclose\u001b[0m \u001b[0;34m=\u001b[0m \u001b[0;32mTrue\u001b[0m\u001b[0;34m\u001b[0m\u001b[0;34m\u001b[0m\u001b[0m\n",
            "\u001b[0;32m/usr/local/lib/python3.6/dist-packages/pandas/io/common.py\u001b[0m in \u001b[0;36mget_handle\u001b[0;34m(path_or_buf, mode, encoding, compression, memory_map, is_text)\u001b[0m\n\u001b[1;32m    426\u001b[0m         \u001b[0;32mif\u001b[0m \u001b[0mencoding\u001b[0m\u001b[0;34m:\u001b[0m\u001b[0;34m\u001b[0m\u001b[0;34m\u001b[0m\u001b[0m\n\u001b[1;32m    427\u001b[0m             \u001b[0;31m# Encoding\u001b[0m\u001b[0;34m\u001b[0m\u001b[0;34m\u001b[0m\u001b[0;34m\u001b[0m\u001b[0m\n\u001b[0;32m--> 428\u001b[0;31m             \u001b[0mf\u001b[0m \u001b[0;34m=\u001b[0m \u001b[0mopen\u001b[0m\u001b[0;34m(\u001b[0m\u001b[0mpath_or_buf\u001b[0m\u001b[0;34m,\u001b[0m \u001b[0mmode\u001b[0m\u001b[0;34m,\u001b[0m \u001b[0mencoding\u001b[0m\u001b[0;34m=\u001b[0m\u001b[0mencoding\u001b[0m\u001b[0;34m,\u001b[0m \u001b[0mnewline\u001b[0m\u001b[0;34m=\u001b[0m\u001b[0;34m\"\"\u001b[0m\u001b[0;34m)\u001b[0m\u001b[0;34m\u001b[0m\u001b[0;34m\u001b[0m\u001b[0m\n\u001b[0m\u001b[1;32m    429\u001b[0m         \u001b[0;32melif\u001b[0m \u001b[0mis_text\u001b[0m\u001b[0;34m:\u001b[0m\u001b[0;34m\u001b[0m\u001b[0;34m\u001b[0m\u001b[0m\n\u001b[1;32m    430\u001b[0m             \u001b[0;31m# No explicit encoding\u001b[0m\u001b[0;34m\u001b[0m\u001b[0;34m\u001b[0m\u001b[0;34m\u001b[0m\u001b[0m\n",
            "\u001b[0;31mFileNotFoundError\u001b[0m: [Errno 2] No such file or directory: 'path/to/results'"
          ]
        }
      ]
    },
    {
      "cell_type": "code",
      "metadata": {
        "id": "T3BWko4jjFH4",
        "colab_type": "code",
        "colab": {}
      },
      "source": [
        ""
      ],
      "execution_count": null,
      "outputs": []
    }
  ]
}